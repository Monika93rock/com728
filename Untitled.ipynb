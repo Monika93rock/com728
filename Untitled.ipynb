{
 "cells": [
  {
   "cell_type": "code",
   "execution_count": 1,
   "id": "e41ca972",
   "metadata": {},
   "outputs": [
    {
     "name": "stdout",
     "output_type": "stream",
     "text": [
      "Collecting matplotlib\n",
      "  Downloading matplotlib-3.8.2-cp310-cp310-win_amd64.whl.metadata (5.9 kB)\n",
      "Collecting contourpy>=1.0.1 (from matplotlib)\n",
      "  Downloading contourpy-1.2.0-cp310-cp310-win_amd64.whl.metadata (5.8 kB)\n",
      "Collecting cycler>=0.10 (from matplotlib)\n",
      "  Downloading cycler-0.12.1-py3-none-any.whl.metadata (3.8 kB)\n",
      "Collecting fonttools>=4.22.0 (from matplotlib)\n",
      "  Downloading fonttools-4.47.0-cp310-cp310-win_amd64.whl.metadata (160 kB)\n",
      "     ---------------------------------------- 0.0/160.4 kB ? eta -:--:--\n",
      "     -- ------------------------------------- 10.2/160.4 kB ? eta -:--:--\n",
      "     ------------------------------------ - 153.6/160.4 kB 2.3 MB/s eta 0:00:01\n",
      "     -------------------------------------- 160.4/160.4 kB 1.9 MB/s eta 0:00:00\n",
      "Collecting kiwisolver>=1.3.1 (from matplotlib)\n",
      "  Downloading kiwisolver-1.4.5-cp310-cp310-win_amd64.whl.metadata (6.5 kB)\n",
      "Requirement already satisfied: numpy<2,>=1.21 in c:\\users\\user\\anaconda3\\envs\\com728\\lib\\site-packages (from matplotlib) (1.26.0)\n",
      "Requirement already satisfied: packaging>=20.0 in c:\\users\\user\\anaconda3\\envs\\com728\\lib\\site-packages (from matplotlib) (23.1)\n",
      "Collecting pillow>=8 (from matplotlib)\n",
      "  Downloading pillow-10.2.0-cp310-cp310-win_amd64.whl.metadata (9.9 kB)\n",
      "Collecting pyparsing>=2.3.1 (from matplotlib)\n",
      "  Downloading pyparsing-3.1.1-py3-none-any.whl.metadata (5.1 kB)\n",
      "Requirement already satisfied: python-dateutil>=2.7 in c:\\users\\user\\anaconda3\\envs\\com728\\lib\\site-packages (from matplotlib) (2.8.2)\n",
      "Requirement already satisfied: six>=1.5 in c:\\users\\user\\anaconda3\\envs\\com728\\lib\\site-packages (from python-dateutil>=2.7->matplotlib) (1.16.0)\n",
      "Downloading matplotlib-3.8.2-cp310-cp310-win_amd64.whl (7.6 MB)\n",
      "   ---------------------------------------- 0.0/7.6 MB ? eta -:--:--\n",
      "   -- ------------------------------------- 0.4/7.6 MB 8.5 MB/s eta 0:00:01\n",
      "   ---- ----------------------------------- 0.8/7.6 MB 8.8 MB/s eta 0:00:01\n",
      "   ------ --------------------------------- 1.2/7.6 MB 8.7 MB/s eta 0:00:01\n",
      "   -------- ------------------------------- 1.7/7.6 MB 8.8 MB/s eta 0:00:01\n",
      "   ---------- ----------------------------- 2.0/7.6 MB 8.6 MB/s eta 0:00:01\n",
      "   ------------ --------------------------- 2.4/7.6 MB 8.5 MB/s eta 0:00:01\n",
      "   -------------- ------------------------- 2.8/7.6 MB 8.5 MB/s eta 0:00:01\n",
      "   ---------------- ----------------------- 3.2/7.6 MB 8.5 MB/s eta 0:00:01\n",
      "   ------------------ --------------------- 3.6/7.6 MB 8.5 MB/s eta 0:00:01\n",
      "   -------------------- ------------------- 4.0/7.6 MB 8.4 MB/s eta 0:00:01\n",
      "   ---------------------- ----------------- 4.3/7.6 MB 8.4 MB/s eta 0:00:01\n",
      "   ------------------------ --------------- 4.7/7.6 MB 8.4 MB/s eta 0:00:01\n",
      "   -------------------------- ------------- 5.1/7.6 MB 8.4 MB/s eta 0:00:01\n",
      "   ---------------------------- ----------- 5.5/7.6 MB 8.4 MB/s eta 0:00:01\n",
      "   ------------------------------ --------- 5.9/7.6 MB 8.4 MB/s eta 0:00:01\n",
      "   -------------------------------- ------- 6.3/7.6 MB 8.4 MB/s eta 0:00:01\n",
      "   ---------------------------------- ----- 6.7/7.6 MB 8.4 MB/s eta 0:00:01\n",
      "   ------------------------------------ --- 7.1/7.6 MB 8.4 MB/s eta 0:00:01\n",
      "   -------------------------------------- - 7.4/7.6 MB 8.3 MB/s eta 0:00:01\n",
      "   ---------------------------------------  7.6/7.6 MB 8.3 MB/s eta 0:00:01\n",
      "   ---------------------------------------- 7.6/7.6 MB 8.0 MB/s eta 0:00:00\n",
      "Downloading contourpy-1.2.0-cp310-cp310-win_amd64.whl (186 kB)\n",
      "   ---------------------------------------- 0.0/186.7 kB ? eta -:--:--\n",
      "   ---------------------------------------- 186.7/186.7 kB 5.7 MB/s eta 0:00:00\n",
      "Downloading cycler-0.12.1-py3-none-any.whl (8.3 kB)\n",
      "Downloading fonttools-4.47.0-cp310-cp310-win_amd64.whl (2.2 MB)\n",
      "   ---------------------------------------- 0.0/2.2 MB ? eta -:--:--\n",
      "   ------ --------------------------------- 0.4/2.2 MB 7.6 MB/s eta 0:00:01\n",
      "   -------------- ------------------------- 0.8/2.2 MB 8.2 MB/s eta 0:00:01\n",
      "   --------------------- ------------------ 1.2/2.2 MB 8.4 MB/s eta 0:00:01\n",
      "   ----------------------------- ---------- 1.6/2.2 MB 9.2 MB/s eta 0:00:01\n",
      "   ------------------------------------ --- 2.0/2.2 MB 8.9 MB/s eta 0:00:01\n",
      "   ---------------------------------------- 2.2/2.2 MB 8.2 MB/s eta 0:00:00\n",
      "Downloading kiwisolver-1.4.5-cp310-cp310-win_amd64.whl (56 kB)\n",
      "   ---------------------------------------- 0.0/56.1 kB ? eta -:--:--\n",
      "   ---------------------------------------- 56.1/56.1 kB 2.9 MB/s eta 0:00:00\n",
      "Downloading pillow-10.2.0-cp310-cp310-win_amd64.whl (2.6 MB)\n",
      "   ---------------------------------------- 0.0/2.6 MB ? eta -:--:--\n",
      "   ------ --------------------------------- 0.4/2.6 MB 13.2 MB/s eta 0:00:01\n",
      "   ------------ --------------------------- 0.8/2.6 MB 10.4 MB/s eta 0:00:01\n",
      "   --------------- ------------------------ 1.0/2.6 MB 9.2 MB/s eta 0:00:01\n",
      "   -------------------- ------------------- 1.4/2.6 MB 7.8 MB/s eta 0:00:01\n",
      "   ------------------------- -------------- 1.6/2.6 MB 7.4 MB/s eta 0:00:01\n",
      "   ----------------------------- ---------- 1.9/2.6 MB 7.3 MB/s eta 0:00:01\n",
      "   --------------------------------- ------ 2.2/2.6 MB 7.1 MB/s eta 0:00:01\n",
      "   ------------------------------------- -- 2.5/2.6 MB 6.8 MB/s eta 0:00:01\n",
      "   ---------------------------------------  2.6/2.6 MB 6.9 MB/s eta 0:00:01\n",
      "   ---------------------------------------- 2.6/2.6 MB 6.0 MB/s eta 0:00:00\n",
      "Downloading pyparsing-3.1.1-py3-none-any.whl (103 kB)\n",
      "   ---------------------------------------- 0.0/103.1 kB ? eta -:--:--\n",
      "   ---------------------------------------- 103.1/103.1 kB 5.8 MB/s eta 0:00:00\n",
      "Installing collected packages: pyparsing, pillow, kiwisolver, fonttools, cycler, contourpy, matplotlib\n",
      "Successfully installed contourpy-1.2.0 cycler-0.12.1 fonttools-4.47.0 kiwisolver-1.4.5 matplotlib-3.8.2 pillow-10.2.0 pyparsing-3.1.1\n"
     ]
    }
   ],
   "source": [
    "!pip install matplotlib"
   ]
  },
  {
   "cell_type": "code",
   "execution_count": 2,
   "id": "6d885cc3",
   "metadata": {},
   "outputs": [],
   "source": [
    " import matplotlib.pyplot as plt"
   ]
  },
  {
   "cell_type": "code",
   "execution_count": null,
   "id": "0b328266",
   "metadata": {},
   "outputs": [],
   "source": []
  }
 ],
 "metadata": {
  "kernelspec": {
   "display_name": "Python 3 (ipykernel)",
   "language": "python",
   "name": "python3"
  },
  "language_info": {
   "codemirror_mode": {
    "name": "ipython",
    "version": 3
   },
   "file_extension": ".py",
   "mimetype": "text/x-python",
   "name": "python",
   "nbconvert_exporter": "python",
   "pygments_lexer": "ipython3",
   "version": "3.10.13"
  }
 },
 "nbformat": 4,
 "nbformat_minor": 5
}
